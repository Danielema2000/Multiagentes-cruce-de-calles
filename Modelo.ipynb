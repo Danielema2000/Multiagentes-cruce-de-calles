{
 "cells": [
  {
   "cell_type": "markdown",
   "metadata": {},
   "source": [
    "# Modelo de cruce de calles"
   ]
  },
  {
   "cell_type": "markdown",
   "metadata": {},
   "source": [
    "This notebook presents a tutorial for beginners on how to create a simple agent-based model with the [agentpy](https://agentpy.readthedocs.io) package. \n",
    "It demonstrates how to create a basic model with a custom agent type, run a simulation, record data, and visualize results."
   ]
  },
  {
   "cell_type": "code",
   "execution_count": 1,
   "metadata": {},
   "outputs": [],
   "source": [
    "# Model design\n",
    "import agentpy as ap\n",
    "import numpy as np \n",
    "import random\n",
    "# Visualization\n",
    "import seaborn as sns\n",
    "import pandas as pd"
   ]
  },
  {
   "cell_type": "markdown",
   "metadata": {},
   "source": [
    "## About the model\n",
    "\n",
    "The model explores the distribution of wealth under a trading population of agents. \n",
    "Each agent starts with one unit of wealth. \n",
    "During each time-step, each agents with positive wealth \n",
    "randomly selects a trading partner and gives them one unit of their wealth.\n",
    "We will see that this random interaction will create an inequality of wealth that \n",
    "follows a [Boltzmann distribution](http://www.phys.ufl.edu/~meisel/Boltzmann.pdf).\n",
    "The original version of this model been written in [MESA](https://mesa.readthedocs.io/) \n",
    "and can be found [here](https://mesa.readthedocs.io/en/master/tutorials/intro_tutorial.html)."
   ]
  },
  {
   "cell_type": "markdown",
   "metadata": {},
   "source": [
    "## Model definition"
   ]
  },
  {
   "cell_type": "markdown",
   "metadata": {
    "raw_mimetype": "text/restructuredtext"
   },
   "source": [
    "Se declara el agente carro"
   ]
  },
  {
   "cell_type": "code",
   "execution_count": 2,
   "metadata": {},
   "outputs": [],
   "source": [
    "def abs(x):\n",
    "    if x<0:\n",
    "        x = x*-1\n",
    "    return x"
   ]
  },
  {
   "cell_type": "code",
   "execution_count": 201,
   "metadata": {},
   "outputs": [],
   "source": [
    "val = [\"arriba\",\"izquierda\",\"abajo\",\"derecha\"]\n",
    "arr = 0\n",
    "izq = 0\n",
    "aba = 0\n",
    "der = 0\n",
    "class CarAgent(ap.Agent):\n",
    "    def setup(self):\n",
    "        self.group = val[random.randint(0,3)]\n",
    "        self.reaction = random.randint(10,20)\n",
    "        self.esperando = 0\n",
    "        global arr, izq, aba, der\n",
    "        if(self.group==\"arriba\"):\n",
    "            self.pos_X = 45\n",
    "            self.pos_Y = 95 + arr * 15\n",
    "            self.speed_X = 0\n",
    "            self.speed_Y = -random.randint(30,50)\n",
    "            arr += 1\n",
    "        elif(self.group==\"izquierda\"):\n",
    "            self.pos_X = 5 - izq * 15\n",
    "            self.pos_Y = 45\n",
    "            self.speed_X = random.randint(30,50)\n",
    "            self.speed_Y = 0\n",
    "            izq += 1\n",
    "        elif(self.group==\"abajo\"):\n",
    "            self.pos_X = 55\n",
    "            self.pos_Y = 5 - aba * 15\n",
    "            self.speed_X = 0\n",
    "            self.speed_Y = random.randint(30,50)\n",
    "            aba += 1\n",
    "        elif(self.group==\"derecha\"):\n",
    "            self.pos_X = 95 + der * 15\n",
    "            self.pos_Y = 55\n",
    "            self.speed_X = -random.randint(30,50)\n",
    "            self.speed_Y = 0\n",
    "            der += 1\n",
    "    def move(self):\n",
    "        res = True\n",
    "        if(self.group==\"arriba\" and abs(65-self.pos_Y)<5 and 65>=self.pos_Y):\n",
    "            res = self.model.semaforos[0].on\n",
    "        elif(self.group==\"izquierda\" and abs(35-self.pos_X)<5 and 35>=self.pos_X):\n",
    "            res = self.model.semaforos[1].on\n",
    "        elif(self.group==\"abajo\" and abs(self.pos_Y-35)<5 and 35<=self.pos_Y):\n",
    "            res = self.model.semaforos[2].on\n",
    "        elif(self.group==\"derecha\" and abs(self.pos_X-65)<5 and 65<=self.pos_X):\n",
    "            res = self.model.semaforos[3].on\n",
    "        return res\n",
    "    def carInfront(self):\n",
    "        res = False\n",
    "        if(self.group==\"arriba\"):\n",
    "            infront = self.model.cars.select(self.model.cars.pos_Y < self.pos_Y)\n",
    "            infront = infront.select(abs(infront.pos_Y - self.pos_Y) < self.reaction)\n",
    "            infront = infront.select(infront.group == \"arriba\")\n",
    "            if len(infront) > 0:\n",
    "                res = True\n",
    "        elif(self.group==\"izquierda\"):\n",
    "            infront = self.model.cars.select(self.model.cars.pos_X > self.pos_X)\n",
    "            infront = infront.select(infront.pos_X - self.pos_X < self.reaction)\n",
    "            infront = infront.select(infront.group == \"izquierda\")\n",
    "            if len(infront) > 0:\n",
    "                res = True\n",
    "        elif(self.group==\"abajo\"):\n",
    "            infront = self.model.cars.select(self.model.cars.pos_Y > self.pos_Y)\n",
    "            infront = infront.select(infront.pos_Y - self.pos_Y < self.reaction)\n",
    "            infront = infront.select(infront.group == \"abajo\")\n",
    "            if len(infront) > 0:\n",
    "                res = True\n",
    "        elif(self.group==\"derecha\"):\n",
    "            infront = self.model.cars.select(self.model.cars.pos_X < self.pos_X)\n",
    "            infront = infront.select(abs(infront.pos_X - self.pos_X)< self.reaction)\n",
    "            infront = infront.select(infront.group == \"derecha\")\n",
    "            if len(infront) > 0:\n",
    "                res = True\n",
    "        return res\n",
    "    def drive(self):\n",
    "        if CarAgent.move(self) and (not CarAgent.carInfront(self)):\n",
    "            self.pos_X += self.speed_X*0.1\n",
    "            self.pos_Y += self.speed_Y*0.1\n",
    "        if not CarAgent.move(self):\n",
    "            self.model.esperas += 1\n",
    "            self.esperando += 1\n",
    "    def vota(self):\n",
    "        if(self.group==\"arriba\" and abs(65-self.pos_Y)<5 and 65>=self.pos_Y):\n",
    "            self.model.cero += self.esperando\n",
    "        elif(self.group==\"izquierda\" and abs(35-self.pos_X)<5 and 35>=self.pos_X):\n",
    "            self.model.uno += self.esperando\n",
    "        elif(self.group==\"abajo\" and abs(self.pos_Y-35)<5 and 35<=self.pos_Y):\n",
    "            self.model.dos += self.esperando\n",
    "        elif(self.group==\"derecha\" and abs(self.pos_X-65)<5 and 65<=self.pos_X):\n",
    "            self.model.tres += self.esperando"
   ]
  },
  {
   "cell_type": "code",
   "execution_count": 202,
   "metadata": {},
   "outputs": [],
   "source": [
    "class SemaforoAgent(ap.Agent):\n",
    "    def setup(self):\n",
    "        self.on = False\n",
    "    def cambia(self):\n",
    "        self.on = True"
   ]
  },
  {
   "cell_type": "markdown",
   "metadata": {
    "raw_mimetype": "text/restructuredtext"
   },
   "source": [
    "Esto es lo que se hace en el modelo:\n",
    "- `setup` crea el arreglo de agentes\n",
    "- `step` metodos que se llaman en cada iteracion\n",
    "- `update` datos que se guardan en cada iteracion\n",
    "- `end` llamado al finalizar el modelo"
   ]
  },
  {
   "cell_type": "code",
   "execution_count": 233,
   "metadata": {},
   "outputs": [],
   "source": [
    "class StreetModel(ap.Model):\n",
    "\n",
    "    def setup(self):\n",
    "        self.cars = ap.AgentList(self, self.p.agents, CarAgent)\n",
    "        self.semaforos = ap.AgentList(self, 4, SemaforoAgent)\n",
    "        self.actual = 0\n",
    "        self.semaforos[self.actual].on = True\n",
    "        self.esperas = 0\n",
    "        self.cero = 0\n",
    "        self.uno = 0\n",
    "        self.dos = 0\n",
    "        self.tres = 0\n",
    "\n",
    "    def votar(self):\n",
    "        self.cero = 0\n",
    "        self.uno = 0\n",
    "        self.dos = 0\n",
    "        self.tres = 0\n",
    "        self.cars.vota()\n",
    "        \n",
    "    def step(self):\n",
    "        self.cars.drive()\n",
    "        \n",
    "        if self.t % self.p.cambia == 0:\n",
    "            self.semaforos[self.actual].on = False\n",
    "            if(self.p.cof>random.random()):\n",
    "                self.votar()\n",
    "                maximo = max(max(self.cero,self.uno),max(self.dos,self.tres))\n",
    "                if(maximo==self.cero):\n",
    "                    self.actual = 0\n",
    "                elif(maximo==self.uno):\n",
    "                    self.actual = 1\n",
    "                elif(maximo==self.dos):\n",
    "                    self.actual = 2\n",
    "                elif(maximo==self.tres):\n",
    "                    self.actual = 3\n",
    "            else:\n",
    "                self.actual += 1\n",
    "                if(self.actual>3):\n",
    "                    self.actual = 0\n",
    "        if self.t % self.p.cambia >= 6:\n",
    "            self.semaforos[self.actual].on = True\n",
    "            \n",
    "\n",
    "    def update(self):\n",
    "        self.cars.record('pos_X')\n",
    "        self.cars.record('pos_Y')\n",
    "        self.record('esperas')\n",
    "        self.semaforos.record('on')\n",
    "\n",
    "    def end(self):\n",
    "        self.cars.record('pos_X')\n",
    "        self.cars.record('pos_Y')\n",
    "        print(self.cars.group)"
   ]
  },
  {
   "cell_type": "markdown",
   "metadata": {},
   "source": [
    "## Simulation run"
   ]
  },
  {
   "cell_type": "markdown",
   "metadata": {
    "raw_mimetype": "text/restructuredtext"
   },
   "source": [
    "Parametros de una simulacion"
   ]
  },
  {
   "cell_type": "code",
   "execution_count": 244,
   "metadata": {},
   "outputs": [],
   "source": [
    "parameters = {\n",
    "    'agents': 20,\n",
    "    'steps': 150,\n",
    "    'seed': 42,\n",
    "    'cambia': 20,\n",
    "    'cof' : 0.5\n",
    "}"
   ]
  },
  {
   "cell_type": "markdown",
   "metadata": {
    "raw_mimetype": "text/restructuredtext"
   },
   "source": [
    "Ejecucion de una simulacion"
   ]
  },
  {
   "cell_type": "code",
   "execution_count": 245,
   "metadata": {},
   "outputs": [
    {
     "name": "stdout",
     "output_type": "stream",
     "text": [
      "Completed: 150 steps['arriba', 'abajo', 'derecha', 'izquierda', 'abajo', 'arriba', 'abajo', 'arriba', 'abajo', 'derecha', 'abajo', 'izquierda', 'abajo', 'izquierda', 'arriba', 'abajo', 'abajo', 'arriba', 'abajo', 'izquierda']\n",
      "\n",
      "Run time: 0:00:00.484710\n",
      "Simulation finished\n"
     ]
    }
   ],
   "source": [
    "arr = 0\n",
    "izq = 0\n",
    "aba = 0\n",
    "der = 0\n",
    "model = StreetModel(parameters)\n",
    "results = model.run()"
   ]
  },
  {
   "cell_type": "markdown",
   "metadata": {},
   "source": [
    "## Recopilacion de resultados"
   ]
  },
  {
   "cell_type": "markdown",
   "metadata": {},
   "source": [
    "DataDict de la simulacion"
   ]
  },
  {
   "cell_type": "code",
   "execution_count": 246,
   "metadata": {},
   "outputs": [
    {
     "data": {
      "text/plain": [
       "DataDict {\n",
       "'info': Dictionary with 9 keys\n",
       "'parameters': \n",
       "    'constants': Dictionary with 5 keys\n",
       "'variables': \n",
       "    'CarAgent': DataFrame with 2 variables and 3020 rows\n",
       "    'StreetModel': DataFrame with 1 variable and 151 rows\n",
       "    'SemaforoAgent': DataFrame with 1 variable and 604 rows\n",
       "'reporters': DataFrame with 1 variable and 1 row\n",
       "}"
      ]
     },
     "execution_count": 246,
     "metadata": {},
     "output_type": "execute_result"
    }
   ],
   "source": [
    "results"
   ]
  },
  {
   "cell_type": "code",
   "execution_count": 247,
   "metadata": {},
   "outputs": [
    {
     "data": {
      "text/html": [
       "<div>\n",
       "<style scoped>\n",
       "    .dataframe tbody tr th:only-of-type {\n",
       "        vertical-align: middle;\n",
       "    }\n",
       "\n",
       "    .dataframe tbody tr th {\n",
       "        vertical-align: top;\n",
       "    }\n",
       "\n",
       "    .dataframe thead th {\n",
       "        text-align: right;\n",
       "    }\n",
       "</style>\n",
       "<table border=\"1\" class=\"dataframe\">\n",
       "  <thead>\n",
       "    <tr style=\"text-align: right;\">\n",
       "      <th></th>\n",
       "      <th>esperas</th>\n",
       "    </tr>\n",
       "    <tr>\n",
       "      <th>t</th>\n",
       "      <th></th>\n",
       "    </tr>\n",
       "  </thead>\n",
       "  <tbody>\n",
       "    <tr>\n",
       "      <th>0</th>\n",
       "      <td>0</td>\n",
       "    </tr>\n",
       "    <tr>\n",
       "      <th>1</th>\n",
       "      <td>0</td>\n",
       "    </tr>\n",
       "    <tr>\n",
       "      <th>2</th>\n",
       "      <td>0</td>\n",
       "    </tr>\n",
       "    <tr>\n",
       "      <th>3</th>\n",
       "      <td>0</td>\n",
       "    </tr>\n",
       "    <tr>\n",
       "      <th>4</th>\n",
       "      <td>0</td>\n",
       "    </tr>\n",
       "    <tr>\n",
       "      <th>...</th>\n",
       "      <td>...</td>\n",
       "    </tr>\n",
       "    <tr>\n",
       "      <th>146</th>\n",
       "      <td>295</td>\n",
       "    </tr>\n",
       "    <tr>\n",
       "      <th>147</th>\n",
       "      <td>295</td>\n",
       "    </tr>\n",
       "    <tr>\n",
       "      <th>148</th>\n",
       "      <td>295</td>\n",
       "    </tr>\n",
       "    <tr>\n",
       "      <th>149</th>\n",
       "      <td>295</td>\n",
       "    </tr>\n",
       "    <tr>\n",
       "      <th>150</th>\n",
       "      <td>295</td>\n",
       "    </tr>\n",
       "  </tbody>\n",
       "</table>\n",
       "<p>151 rows × 1 columns</p>\n",
       "</div>"
      ],
      "text/plain": [
       "     esperas\n",
       "t           \n",
       "0          0\n",
       "1          0\n",
       "2          0\n",
       "3          0\n",
       "4          0\n",
       "..       ...\n",
       "146      295\n",
       "147      295\n",
       "148      295\n",
       "149      295\n",
       "150      295\n",
       "\n",
       "[151 rows x 1 columns]"
      ]
     },
     "execution_count": 247,
     "metadata": {},
     "output_type": "execute_result"
    }
   ],
   "source": [
    "results.variables.StreetModel"
   ]
  },
  {
   "cell_type": "code",
   "execution_count": 248,
   "metadata": {},
   "outputs": [
    {
     "data": {
      "image/png": "[encoded data removed]",
      "text/plain": [
       "<Figure size 432x288 with 1 Axes>"
      ]
     },
     "metadata": {
      "needs_background": "light"
     },
     "output_type": "display_data"
    }
   ],
   "source": [
    "data = results.variables.StreetModel\n",
    "ax = data.plot()"
   ]
  },
  {
   "cell_type": "markdown",
   "metadata": {},
   "source": [
    "Informacion de la simulacion"
   ]
  },
  {
   "cell_type": "code",
   "execution_count": 249,
   "metadata": {},
   "outputs": [
    {
     "data": {
      "text/plain": [
       "{'model_type': 'StreetModel',\n",
       " 'time_stamp': '2021-11-29 10:40:29',\n",
       " 'agentpy_version': '0.1.4',\n",
       " 'python_version': '3.9.0',\n",
       " 'experiment': False,\n",
       " 'completed': True,\n",
       " 'created_objects': 24,\n",
       " 'completed_steps': 150,\n",
       " 'run_time': '0:00:00.484710'}"
      ]
     },
     "execution_count": 249,
     "metadata": {},
     "output_type": "execute_result"
    }
   ],
   "source": [
    "results.info"
   ]
  },
  {
   "cell_type": "markdown",
   "metadata": {},
   "source": [
    "Tabla de posiciones para cada carro"
   ]
  },
  {
   "cell_type": "code",
   "execution_count": 250,
   "metadata": {},
   "outputs": [
    {
     "data": {
      "text/html": [
       "<div>\n",
       "<style scoped>\n",
       "    .dataframe tbody tr th:only-of-type {\n",
       "        vertical-align: middle;\n",
       "    }\n",
       "\n",
       "    .dataframe tbody tr th {\n",
       "        vertical-align: top;\n",
       "    }\n",
       "\n",
       "    .dataframe thead th {\n",
       "        text-align: right;\n",
       "    }\n",
       "</style>\n",
       "<table border=\"1\" class=\"dataframe\">\n",
       "  <thead>\n",
       "    <tr style=\"text-align: right;\">\n",
       "      <th></th>\n",
       "      <th></th>\n",
       "      <th>pos_X</th>\n",
       "      <th>pos_Y</th>\n",
       "    </tr>\n",
       "    <tr>\n",
       "      <th>obj_id</th>\n",
       "      <th>t</th>\n",
       "      <th></th>\n",
       "      <th></th>\n",
       "    </tr>\n",
       "  </thead>\n",
       "  <tbody>\n",
       "    <tr>\n",
       "      <th rowspan=\"5\" valign=\"top\">1</th>\n",
       "      <th>0</th>\n",
       "      <td>45.0</td>\n",
       "      <td>95.0</td>\n",
       "    </tr>\n",
       "    <tr>\n",
       "      <th>1</th>\n",
       "      <td>45.0</td>\n",
       "      <td>90.4</td>\n",
       "    </tr>\n",
       "    <tr>\n",
       "      <th>2</th>\n",
       "      <td>45.0</td>\n",
       "      <td>85.8</td>\n",
       "    </tr>\n",
       "    <tr>\n",
       "      <th>3</th>\n",
       "      <td>45.0</td>\n",
       "      <td>81.2</td>\n",
       "    </tr>\n",
       "    <tr>\n",
       "      <th>4</th>\n",
       "      <td>45.0</td>\n",
       "      <td>76.6</td>\n",
       "    </tr>\n",
       "    <tr>\n",
       "      <th>...</th>\n",
       "      <th>...</th>\n",
       "      <td>...</td>\n",
       "      <td>...</td>\n",
       "    </tr>\n",
       "    <tr>\n",
       "      <th rowspan=\"5\" valign=\"top\">20</th>\n",
       "      <th>146</th>\n",
       "      <td>363.3</td>\n",
       "      <td>45.0</td>\n",
       "    </tr>\n",
       "    <tr>\n",
       "      <th>147</th>\n",
       "      <td>367.0</td>\n",
       "      <td>45.0</td>\n",
       "    </tr>\n",
       "    <tr>\n",
       "      <th>148</th>\n",
       "      <td>370.7</td>\n",
       "      <td>45.0</td>\n",
       "    </tr>\n",
       "    <tr>\n",
       "      <th>149</th>\n",
       "      <td>374.4</td>\n",
       "      <td>45.0</td>\n",
       "    </tr>\n",
       "    <tr>\n",
       "      <th>150</th>\n",
       "      <td>378.1</td>\n",
       "      <td>45.0</td>\n",
       "    </tr>\n",
       "  </tbody>\n",
       "</table>\n",
       "<p>3020 rows × 2 columns</p>\n",
       "</div>"
      ],
      "text/plain": [
       "            pos_X  pos_Y\n",
       "obj_id t                \n",
       "1      0     45.0   95.0\n",
       "       1     45.0   90.4\n",
       "       2     45.0   85.8\n",
       "       3     45.0   81.2\n",
       "       4     45.0   76.6\n",
       "...           ...    ...\n",
       "20     146  363.3   45.0\n",
       "       147  367.0   45.0\n",
       "       148  370.7   45.0\n",
       "       149  374.4   45.0\n",
       "       150  378.1   45.0\n",
       "\n",
       "[3020 rows x 2 columns]"
      ]
     },
     "execution_count": 250,
     "metadata": {},
     "output_type": "execute_result"
    }
   ],
   "source": [
    "results.variables.CarAgent"
   ]
  },
  {
   "cell_type": "markdown",
   "metadata": {},
   "source": [
    "Escribir tabla en csv"
   ]
  },
  {
   "cell_type": "code",
   "execution_count": 251,
   "metadata": {},
   "outputs": [],
   "source": [
    "df = pd.DataFrame()\n",
    "df = df.assign(id=None)\n",
    "df = df.assign(t=None)\n",
    "df = df.assign(X=None)\n",
    "df = df.assign(Y=None)\n",
    "id = []\n",
    "t = []\n",
    "x = []\n",
    "y = []\n",
    "for i in range(0,parameters[\"agents\"]):\n",
    "    for j in range(0,parameters[\"steps\"]+1):\n",
    "        id.append(i+1)\n",
    "        t.append(j)\n",
    "for i in results.variables.CarAgent.pos_X:\n",
    "    x.append(i)\n",
    "for i in results.variables.CarAgent.pos_Y:\n",
    "    y.append(i)\n",
    "df['id'] = id\n",
    "df['t'] = t\n",
    "df['X'] = x\n",
    "df['Y'] = y\n",
    "df.to_csv(\"carros.csv\",index=False)"
   ]
  },
  {
   "cell_type": "markdown",
   "metadata": {},
   "source": [
    "Tabla de valores de encendido para cada semaforo"
   ]
  },
  {
   "cell_type": "code",
   "execution_count": 252,
   "metadata": {},
   "outputs": [
    {
     "data": {
      "text/html": [
       "<div>\n",
       "<style scoped>\n",
       "    .dataframe tbody tr th:only-of-type {\n",
       "        vertical-align: middle;\n",
       "    }\n",
       "\n",
       "    .dataframe tbody tr th {\n",
       "        vertical-align: top;\n",
       "    }\n",
       "\n",
       "    .dataframe thead th {\n",
       "        text-align: right;\n",
       "    }\n",
       "</style>\n",
       "<table border=\"1\" class=\"dataframe\">\n",
       "  <thead>\n",
       "    <tr style=\"text-align: right;\">\n",
       "      <th></th>\n",
       "      <th></th>\n",
       "      <th>on</th>\n",
       "    </tr>\n",
       "    <tr>\n",
       "      <th>obj_id</th>\n",
       "      <th>t</th>\n",
       "      <th></th>\n",
       "    </tr>\n",
       "  </thead>\n",
       "  <tbody>\n",
       "    <tr>\n",
       "      <th rowspan=\"5\" valign=\"top\">21</th>\n",
       "      <th>0</th>\n",
       "      <td>True</td>\n",
       "    </tr>\n",
       "    <tr>\n",
       "      <th>1</th>\n",
       "      <td>True</td>\n",
       "    </tr>\n",
       "    <tr>\n",
       "      <th>2</th>\n",
       "      <td>True</td>\n",
       "    </tr>\n",
       "    <tr>\n",
       "      <th>3</th>\n",
       "      <td>True</td>\n",
       "    </tr>\n",
       "    <tr>\n",
       "      <th>4</th>\n",
       "      <td>True</td>\n",
       "    </tr>\n",
       "    <tr>\n",
       "      <th>...</th>\n",
       "      <th>...</th>\n",
       "      <td>...</td>\n",
       "    </tr>\n",
       "    <tr>\n",
       "      <th rowspan=\"5\" valign=\"top\">24</th>\n",
       "      <th>146</th>\n",
       "      <td>False</td>\n",
       "    </tr>\n",
       "    <tr>\n",
       "      <th>147</th>\n",
       "      <td>False</td>\n",
       "    </tr>\n",
       "    <tr>\n",
       "      <th>148</th>\n",
       "      <td>False</td>\n",
       "    </tr>\n",
       "    <tr>\n",
       "      <th>149</th>\n",
       "      <td>False</td>\n",
       "    </tr>\n",
       "    <tr>\n",
       "      <th>150</th>\n",
       "      <td>False</td>\n",
       "    </tr>\n",
       "  </tbody>\n",
       "</table>\n",
       "<p>604 rows × 1 columns</p>\n",
       "</div>"
      ],
      "text/plain": [
       "               on\n",
       "obj_id t         \n",
       "21     0     True\n",
       "       1     True\n",
       "       2     True\n",
       "       3     True\n",
       "       4     True\n",
       "...           ...\n",
       "24     146  False\n",
       "       147  False\n",
       "       148  False\n",
       "       149  False\n",
       "       150  False\n",
       "\n",
       "[604 rows x 1 columns]"
      ]
     },
     "execution_count": 252,
     "metadata": {},
     "output_type": "execute_result"
    }
   ],
   "source": [
    "results.variables.SemaforoAgent"
   ]
  },
  {
   "cell_type": "markdown",
   "metadata": {},
   "source": [
    "Escribir tabla en csv"
   ]
  },
  {
   "cell_type": "code",
   "execution_count": 253,
   "metadata": {},
   "outputs": [],
   "source": [
    "df = pd.DataFrame()\n",
    "df = df.assign(id=None)\n",
    "df = df.assign(t=None)\n",
    "df = df.assign(on=None)\n",
    "id = []\n",
    "t = []\n",
    "on = []\n",
    "for i in range(parameters[\"agents\"],parameters[\"agents\"]+4):\n",
    "    for j in range(0,parameters[\"steps\"]+1):\n",
    "        id.append(i+1)\n",
    "        t.append(j)\n",
    "for i in results.variables.SemaforoAgent.on:\n",
    "    on.append(i)\n",
    "df['id'] = id\n",
    "df['t'] = t\n",
    "df['on'] = on\n",
    "df.to_csv(\"semaforos.csv\",index=False)"
   ]
  }
 ],
 "metadata": {
  "kernelspec": {
   "display_name": "Python 3",
   "language": "python",
   "name": "python3"
  },
  "language_info": {
   "codemirror_mode": {
    "name": "ipython",
    "version": 3
   },
   "file_extension": ".py",
   "mimetype": "text/x-python",
   "name": "python",
   "nbconvert_exporter": "python",
   "pygments_lexer": "ipython3",
   "version": "3.9.0"
  }
 },
 "nbformat": 4,
 "nbformat_minor": 4
}
