{
 "cells": [
  {
   "cell_type": "markdown",
   "metadata": {},
   "source": [
    "# Modelo de cruce de calles"
   ]
  },
  {
   "cell_type": "markdown",
   "metadata": {},
   "source": [
    "This notebook presents a tutorial for beginners on how to create a simple agent-based model with the [agentpy](https://agentpy.readthedocs.io) package. \n",
    "It demonstrates how to create a basic model with a custom agent type, run a simulation, record data, and visualize results."
   ]
  },
  {
   "cell_type": "code",
   "execution_count": 1,
   "metadata": {},
   "outputs": [],
   "source": [
    "# Model design\n",
    "import agentpy as ap\n",
    "import numpy as np \n",
    "import random\n",
    "# Visualization\n",
    "import seaborn as sns\n",
    "import pandas as pd"
   ]
  },
  {
   "cell_type": "markdown",
   "metadata": {},
   "source": [
    "## About the model\n",
    "\n",
    "The model explores the distribution of wealth under a trading population of agents. \n",
    "Each agent starts with one unit of wealth. \n",
    "During each time-step, each agents with positive wealth \n",
    "randomly selects a trading partner and gives them one unit of their wealth.\n",
    "We will see that this random interaction will create an inequality of wealth that \n",
    "follows a [Boltzmann distribution](http://www.phys.ufl.edu/~meisel/Boltzmann.pdf).\n",
    "The original version of this model been written in [MESA](https://mesa.readthedocs.io/) \n",
    "and can be found [here](https://mesa.readthedocs.io/en/master/tutorials/intro_tutorial.html)."
   ]
  },
  {
   "cell_type": "markdown",
   "metadata": {},
   "source": [
    "## Model definition"
   ]
  },
  {
   "cell_type": "markdown",
   "metadata": {
    "raw_mimetype": "text/restructuredtext"
   },
   "source": [
    "Se declara el agente carro"
   ]
  },
  {
   "cell_type": "code",
   "execution_count": 314,
   "metadata": {},
   "outputs": [],
   "source": [
    "val = [\"arriba\",\"izquierda\",\"abajo\",\"derecha\"]\n",
    "class CarAgent(ap.Agent):\n",
    "    def setup(self):\n",
    "        self.group = val[random.randint(0,3)]\n",
    "        if(self.group==\"arriba\"):\n",
    "            self.pos_X = 45\n",
    "            self.pos_Y = 95\n",
    "            self.speed_X = 0\n",
    "            self.speed_Y = -random.randint(30,50)\n",
    "        elif(self.group==\"izquierda\"):\n",
    "            self.pos_X = 5\n",
    "            self.pos_Y = 45\n",
    "            self.speed_X = random.randint(30,50)\n",
    "            self.speed_Y = 0\n",
    "        elif(self.group==\"abajo\"):\n",
    "            self.pos_X = 55\n",
    "            self.pos_Y = 5\n",
    "            self.speed_X = 0\n",
    "            self.speed_Y = random.randint(30,50)\n",
    "        elif(self.group==\"derecha\"):\n",
    "            self.pos_X = 95\n",
    "            self.pos_Y = 55\n",
    "            self.speed_X = -random.randint(30,50)\n",
    "            self.speed_Y = 0\n",
    "    def move(self):\n",
    "        res = False\n",
    "        if(self.group==\"arriba\"):\n",
    "            res = self.model.semaforos[0].on\n",
    "        elif(self.group==\"izquierda\"):\n",
    "            res = self.model.semaforos[1].on\n",
    "        elif(self.group==\"abajo\"):\n",
    "            res = self.model.semaforos[2].on\n",
    "        elif(self.group==\"derecha\"):\n",
    "            res = self.model.semaforos[3].on\n",
    "        return res\n",
    "    def drive(self):\n",
    "        if CarAgent.move(self):\n",
    "            self.pos_X += self.speed_X*0.1\n",
    "            self.pos_Y += self.speed_Y*0.1"
   ]
  },
  {
   "cell_type": "code",
   "execution_count": 315,
   "metadata": {},
   "outputs": [],
   "source": [
    "class SemaforoAgent(ap.Agent):\n",
    "    def setup(self):\n",
    "        self.on = False\n",
    "    def cambia(self):\n",
    "        self.on = True"
   ]
  },
  {
   "cell_type": "markdown",
   "metadata": {
    "raw_mimetype": "text/restructuredtext"
   },
   "source": [
    "Esto es lo que se hace en el modelo:\n",
    "- `setup` crea el arreglo de agentes\n",
    "- `step` metodos que se llaman en cada iteracion\n",
    "- `update` datos que se guardan en cada iteracion\n",
    "- `end` llamado al finalizar el modelo"
   ]
  },
  {
   "cell_type": "code",
   "execution_count": 316,
   "metadata": {},
   "outputs": [],
   "source": [
    "class StreetModel(ap.Model):\n",
    "\n",
    "    def setup(self):\n",
    "        self.cars = ap.AgentList(self, self.p.agents, CarAgent)\n",
    "        self.semaforos = ap.AgentList(self, 4, SemaforoAgent)\n",
    "        self.actual = 0\n",
    "        self.semaforos[self.actual].on = True\n",
    "        \n",
    "    def step(self):\n",
    "        self.cars.drive()\n",
    "\n",
    "        if self.t % self.p.cambia == 0:\n",
    "            self.semaforos[self.actual].on = False\n",
    "            self.actual += 1\n",
    "            if(self.actual>3):\n",
    "                self.actual = 0\n",
    "            self.semaforos[self.actual].on = True\n",
    "\n",
    "    def update(self):\n",
    "        self.cars.record('pos_X')\n",
    "        self.cars.record('pos_Y')\n",
    "        self.semaforos.record('on')\n",
    "\n",
    "    def end(self):\n",
    "        self.cars.record('pos_X')\n",
    "        self.cars.record('pos_Y')"
   ]
  },
  {
   "cell_type": "markdown",
   "metadata": {},
   "source": [
    "## Simulation run"
   ]
  },
  {
   "cell_type": "markdown",
   "metadata": {
    "raw_mimetype": "text/restructuredtext"
   },
   "source": [
    "Parametros de una simulacion"
   ]
  },
  {
   "cell_type": "code",
   "execution_count": 317,
   "metadata": {},
   "outputs": [],
   "source": [
    "parameters = {\n",
    "    'agents': 5,\n",
    "    'steps': 100,\n",
    "    'seed': 42,\n",
    "    'cambia': 30\n",
    "}"
   ]
  },
  {
   "cell_type": "markdown",
   "metadata": {
    "raw_mimetype": "text/restructuredtext"
   },
   "source": [
    "Ejecucion de una simulacion"
   ]
  },
  {
   "cell_type": "code",
   "execution_count": 318,
   "metadata": {},
   "outputs": [
    {
     "name": "stdout",
     "output_type": "stream",
     "text": [
      "Completed: 100 steps\n",
      "Run time: 0:00:00.043883\n",
      "Simulation finished\n"
     ]
    }
   ],
   "source": [
    "model = StreetModel(parameters)\n",
    "results = model.run()"
   ]
  },
  {
   "cell_type": "markdown",
   "metadata": {},
   "source": [
    "## Output analysis"
   ]
  },
  {
   "cell_type": "markdown",
   "metadata": {},
   "source": [
    "DataDict de la simulacion"
   ]
  },
  {
   "cell_type": "code",
   "execution_count": 319,
   "metadata": {},
   "outputs": [
    {
     "data": {
      "text/plain": [
       "DataDict {\n",
       "'info': Dictionary with 9 keys\n",
       "'parameters': \n",
       "    'constants': Dictionary with 4 keys\n",
       "'variables': \n",
       "    'CarAgent': DataFrame with 2 variables and 505 rows\n",
       "    'SemaforoAgent': DataFrame with 1 variable and 404 rows\n",
       "'reporters': DataFrame with 1 variable and 1 row\n",
       "}"
      ]
     },
     "execution_count": 319,
     "metadata": {},
     "output_type": "execute_result"
    }
   ],
   "source": [
    "results"
   ]
  },
  {
   "cell_type": "markdown",
   "metadata": {},
   "source": [
    "Informacion de la simulacion"
   ]
  },
  {
   "cell_type": "code",
   "execution_count": 320,
   "metadata": {},
   "outputs": [
    {
     "data": {
      "text/plain": [
       "{'model_type': 'StreetModel',\n",
       " 'time_stamp': '2021-11-22 20:23:59',\n",
       " 'agentpy_version': '0.1.4',\n",
       " 'python_version': '3.9.0',\n",
       " 'experiment': False,\n",
       " 'completed': True,\n",
       " 'created_objects': 9,\n",
       " 'completed_steps': 100,\n",
       " 'run_time': '0:00:00.043883'}"
      ]
     },
     "execution_count": 320,
     "metadata": {},
     "output_type": "execute_result"
    }
   ],
   "source": [
    "results.info"
   ]
  },
  {
   "cell_type": "markdown",
   "metadata": {},
   "source": [
    "Tabla de valores de encendido para cada semaforo"
   ]
  },
  {
   "cell_type": "code",
   "execution_count": 321,
   "metadata": {},
   "outputs": [
    {
     "data": {
      "text/html": [
       "<div>\n",
       "<style scoped>\n",
       "    .dataframe tbody tr th:only-of-type {\n",
       "        vertical-align: middle;\n",
       "    }\n",
       "\n",
       "    .dataframe tbody tr th {\n",
       "        vertical-align: top;\n",
       "    }\n",
       "\n",
       "    .dataframe thead th {\n",
       "        text-align: right;\n",
       "    }\n",
       "</style>\n",
       "<table border=\"1\" class=\"dataframe\">\n",
       "  <thead>\n",
       "    <tr style=\"text-align: right;\">\n",
       "      <th></th>\n",
       "      <th></th>\n",
       "      <th>on</th>\n",
       "    </tr>\n",
       "    <tr>\n",
       "      <th>obj_id</th>\n",
       "      <th>t</th>\n",
       "      <th></th>\n",
       "    </tr>\n",
       "  </thead>\n",
       "  <tbody>\n",
       "    <tr>\n",
       "      <th rowspan=\"5\" valign=\"top\">6</th>\n",
       "      <th>0</th>\n",
       "      <td>True</td>\n",
       "    </tr>\n",
       "    <tr>\n",
       "      <th>1</th>\n",
       "      <td>True</td>\n",
       "    </tr>\n",
       "    <tr>\n",
       "      <th>2</th>\n",
       "      <td>True</td>\n",
       "    </tr>\n",
       "    <tr>\n",
       "      <th>3</th>\n",
       "      <td>True</td>\n",
       "    </tr>\n",
       "    <tr>\n",
       "      <th>4</th>\n",
       "      <td>True</td>\n",
       "    </tr>\n",
       "    <tr>\n",
       "      <th>...</th>\n",
       "      <th>...</th>\n",
       "      <td>...</td>\n",
       "    </tr>\n",
       "    <tr>\n",
       "      <th rowspan=\"5\" valign=\"top\">9</th>\n",
       "      <th>96</th>\n",
       "      <td>True</td>\n",
       "    </tr>\n",
       "    <tr>\n",
       "      <th>97</th>\n",
       "      <td>True</td>\n",
       "    </tr>\n",
       "    <tr>\n",
       "      <th>98</th>\n",
       "      <td>True</td>\n",
       "    </tr>\n",
       "    <tr>\n",
       "      <th>99</th>\n",
       "      <td>True</td>\n",
       "    </tr>\n",
       "    <tr>\n",
       "      <th>100</th>\n",
       "      <td>True</td>\n",
       "    </tr>\n",
       "  </tbody>\n",
       "</table>\n",
       "<p>404 rows × 1 columns</p>\n",
       "</div>"
      ],
      "text/plain": [
       "              on\n",
       "obj_id t        \n",
       "6      0    True\n",
       "       1    True\n",
       "       2    True\n",
       "       3    True\n",
       "       4    True\n",
       "...          ...\n",
       "9      96   True\n",
       "       97   True\n",
       "       98   True\n",
       "       99   True\n",
       "       100  True\n",
       "\n",
       "[404 rows x 1 columns]"
      ]
     },
     "execution_count": 321,
     "metadata": {},
     "output_type": "execute_result"
    }
   ],
   "source": [
    "results.variables.SemaforoAgent"
   ]
  },
  {
   "cell_type": "code",
   "execution_count": 322,
   "metadata": {},
   "outputs": [],
   "source": [
    "escrito = pd.ExcelWriter('semaforos.xlsx')\n",
    "# escribir el DataFrame en excel\n",
    "results.variables.SemaforoAgent.to_excel(escrito)\n",
    "# guardar el excel\n",
    "escrito.save()"
   ]
  },
  {
   "cell_type": "markdown",
   "metadata": {},
   "source": [
    "Tabla de posiciones para cada carro"
   ]
  },
  {
   "cell_type": "code",
   "execution_count": 323,
   "metadata": {},
   "outputs": [
    {
     "data": {
      "text/html": [
       "<div>\n",
       "<style scoped>\n",
       "    .dataframe tbody tr th:only-of-type {\n",
       "        vertical-align: middle;\n",
       "    }\n",
       "\n",
       "    .dataframe tbody tr th {\n",
       "        vertical-align: top;\n",
       "    }\n",
       "\n",
       "    .dataframe thead th {\n",
       "        text-align: right;\n",
       "    }\n",
       "</style>\n",
       "<table border=\"1\" class=\"dataframe\">\n",
       "  <thead>\n",
       "    <tr style=\"text-align: right;\">\n",
       "      <th></th>\n",
       "      <th></th>\n",
       "      <th>pos_X</th>\n",
       "      <th>pos_Y</th>\n",
       "    </tr>\n",
       "    <tr>\n",
       "      <th>obj_id</th>\n",
       "      <th>t</th>\n",
       "      <th></th>\n",
       "      <th></th>\n",
       "    </tr>\n",
       "  </thead>\n",
       "  <tbody>\n",
       "    <tr>\n",
       "      <th rowspan=\"5\" valign=\"top\">1</th>\n",
       "      <th>0</th>\n",
       "      <td>55.0</td>\n",
       "      <td>5.0</td>\n",
       "    </tr>\n",
       "    <tr>\n",
       "      <th>1</th>\n",
       "      <td>55.0</td>\n",
       "      <td>5.0</td>\n",
       "    </tr>\n",
       "    <tr>\n",
       "      <th>2</th>\n",
       "      <td>55.0</td>\n",
       "      <td>5.0</td>\n",
       "    </tr>\n",
       "    <tr>\n",
       "      <th>3</th>\n",
       "      <td>55.0</td>\n",
       "      <td>5.0</td>\n",
       "    </tr>\n",
       "    <tr>\n",
       "      <th>4</th>\n",
       "      <td>55.0</td>\n",
       "      <td>5.0</td>\n",
       "    </tr>\n",
       "    <tr>\n",
       "      <th>...</th>\n",
       "      <th>...</th>\n",
       "      <td>...</td>\n",
       "      <td>...</td>\n",
       "    </tr>\n",
       "    <tr>\n",
       "      <th rowspan=\"5\" valign=\"top\">5</th>\n",
       "      <th>96</th>\n",
       "      <td>55.0</td>\n",
       "      <td>140.0</td>\n",
       "    </tr>\n",
       "    <tr>\n",
       "      <th>97</th>\n",
       "      <td>55.0</td>\n",
       "      <td>140.0</td>\n",
       "    </tr>\n",
       "    <tr>\n",
       "      <th>98</th>\n",
       "      <td>55.0</td>\n",
       "      <td>140.0</td>\n",
       "    </tr>\n",
       "    <tr>\n",
       "      <th>99</th>\n",
       "      <td>55.0</td>\n",
       "      <td>140.0</td>\n",
       "    </tr>\n",
       "    <tr>\n",
       "      <th>100</th>\n",
       "      <td>55.0</td>\n",
       "      <td>140.0</td>\n",
       "    </tr>\n",
       "  </tbody>\n",
       "</table>\n",
       "<p>505 rows × 2 columns</p>\n",
       "</div>"
      ],
      "text/plain": [
       "            pos_X  pos_Y\n",
       "obj_id t                \n",
       "1      0     55.0    5.0\n",
       "       1     55.0    5.0\n",
       "       2     55.0    5.0\n",
       "       3     55.0    5.0\n",
       "       4     55.0    5.0\n",
       "...           ...    ...\n",
       "5      96    55.0  140.0\n",
       "       97    55.0  140.0\n",
       "       98    55.0  140.0\n",
       "       99    55.0  140.0\n",
       "       100   55.0  140.0\n",
       "\n",
       "[505 rows x 2 columns]"
      ]
     },
     "execution_count": 323,
     "metadata": {},
     "output_type": "execute_result"
    }
   ],
   "source": [
    "results.variables.CarAgent"
   ]
  },
  {
   "cell_type": "code",
   "execution_count": 324,
   "metadata": {},
   "outputs": [],
   "source": [
    "escrito = pd.ExcelWriter('carros.xlsx')\n",
    "# escribir el DataFrame en excel\n",
    "results.variables.CarAgent.to_excel(escrito)\n",
    "# guardar el excel\n",
    "escrito.save()"
   ]
  }
 ],
 "metadata": {
  "kernelspec": {
   "display_name": "Python 3",
   "language": "python",
   "name": "python3"
  },
  "language_info": {
   "codemirror_mode": {
    "name": "ipython",
    "version": 3
   },
   "file_extension": ".py",
   "mimetype": "text/x-python",
   "name": "python",
   "nbconvert_exporter": "python",
   "pygments_lexer": "ipython3",
   "version": "3.9.0"
  }
 },
 "nbformat": 4,
 "nbformat_minor": 4
}
